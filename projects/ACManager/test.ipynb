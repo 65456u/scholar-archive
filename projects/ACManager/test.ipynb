{
 "cells": [
  {
   "metadata": {
    "ExecuteTime": {
     "end_time": "2024-05-12T02:17:30.824851Z",
     "start_time": "2024-05-12T02:17:30.821657Z"
    }
   },
   "cell_type": "code",
   "source": "from acm import ACMDatabase, Settings",
   "id": "1a06352d36e9ad77",
   "outputs": [],
   "execution_count": 13
  },
  {
   "metadata": {
    "ExecuteTime": {
     "end_time": "2024-05-12T02:14:52.613989Z",
     "start_time": "2024-05-12T02:14:52.570843Z"
    }
   },
   "cell_type": "code",
   "source": "acm = ACMDatabase()",
   "id": "1ee5b2c174062661",
   "outputs": [],
   "execution_count": 2
  },
  {
   "metadata": {
    "ExecuteTime": {
     "end_time": "2024-05-12T02:15:07.694461Z",
     "start_time": "2024-05-12T02:15:07.611264Z"
    }
   },
   "cell_type": "code",
   "source": "acm.add_rooms(10)",
   "id": "73950ff048590ebe",
   "outputs": [],
   "execution_count": 3
  },
  {
   "metadata": {
    "ExecuteTime": {
     "end_time": "2024-05-12T02:15:59.053760Z",
     "start_time": "2024-05-12T02:15:58.849159Z"
    }
   },
   "cell_type": "code",
   "source": "user_id = acm.register_user('how','are','you',1)",
   "id": "819ab4b665725730",
   "outputs": [
    {
     "name": "stdout",
     "output_type": "stream",
     "text": [
      "Error registering user: UNIQUE constraint failed: users.phone\n"
     ]
    }
   ],
   "execution_count": 5
  },
  {
   "metadata": {
    "ExecuteTime": {
     "end_time": "2024-05-12T02:16:58.704992Z",
     "start_time": "2024-05-12T02:16:58.700295Z"
    }
   },
   "cell_type": "code",
   "source": "room_id = acm.checkin(user_id)",
   "id": "a1b61f9428d7849f",
   "outputs": [],
   "execution_count": 9
  },
  {
   "metadata": {
    "ExecuteTime": {
     "end_time": "2024-05-12T02:17:13.170410Z",
     "start_time": "2024-05-12T02:17:13.155944Z"
    }
   },
   "cell_type": "code",
   "source": "acm.turn_on_ac(room_id)",
   "id": "be3799b34b70e10",
   "outputs": [
    {
     "data": {
      "text/plain": [
       "(0, Settings(temperature=25, fan_speed='High', mode='Cool'))"
      ]
     },
     "execution_count": 12,
     "metadata": {},
     "output_type": "execute_result"
    }
   ],
   "execution_count": 12
  },
  {
   "metadata": {
    "ExecuteTime": {
     "end_time": "2024-05-12T02:17:50.678483Z",
     "start_time": "2024-05-12T02:17:50.675426Z"
    }
   },
   "cell_type": "code",
   "source": "crazy_settings=Settings(temperature=100, fan_speed=\"high\", mode= \"cool\")",
   "id": "1299fd2a2ab3de15",
   "outputs": [],
   "execution_count": 14
  },
  {
   "metadata": {
    "ExecuteTime": {
     "end_time": "2024-05-12T02:17:55.806007Z",
     "start_time": "2024-05-12T02:17:55.793197Z"
    }
   },
   "cell_type": "code",
   "source": "acm.set_ac(room_id, crazy_settings)",
   "id": "c9057eb59a313ea0",
   "outputs": [
    {
     "data": {
      "text/plain": [
       "(0, Settings(temperature=100, fan_speed='high', mode='cool'))"
      ]
     },
     "execution_count": 15,
     "metadata": {},
     "output_type": "execute_result"
    }
   ],
   "execution_count": 15
  },
  {
   "metadata": {
    "ExecuteTime": {
     "end_time": "2024-05-12T02:18:04.991608Z",
     "start_time": "2024-05-12T02:18:04.969785Z"
    }
   },
   "cell_type": "code",
   "source": "acm.turn_off_ac(room_id)",
   "id": "1cf599197bec7579",
   "outputs": [
    {
     "name": "stdout",
     "output_type": "stream",
     "text": [
      "2024-05-12 02:17:13 2024-05-12 02:18:04 100 high cool\n",
      "0.014166666666666666 100 1.5 1.0\n"
     ]
    },
    {
     "data": {
      "text/plain": [
       "(0, Settings(temperature=100, fan_speed='high', mode='cool'))"
      ]
     },
     "execution_count": 16,
     "metadata": {},
     "output_type": "execute_result"
    }
   ],
   "execution_count": 16
  },
  {
   "metadata": {
    "ExecuteTime": {
     "end_time": "2024-05-12T02:18:13.611449Z",
     "start_time": "2024-05-12T02:18:13.599067Z"
    }
   },
   "cell_type": "code",
   "source": "acm.checkout(user_id)",
   "id": "31bb41b42be2bb6c",
   "outputs": [
    {
     "name": "stdout",
     "output_type": "stream",
     "text": [
      "[(1, '2024-05-12 02:16:51', None)]\n",
      "1\n",
      "2024-05-12 02:16:51\n"
     ]
    },
    {
     "data": {
      "text/plain": [
       "(0.527,\n",
       " [Invoice(room_id=1, start_time='2024-05-12 02:17:13', end_time='2024-05-12 02:18:04', settings=Settings(temperature=100, fan_speed='high', mode='cool'), cost=0.527)])"
      ]
     },
     "execution_count": 17,
     "metadata": {},
     "output_type": "execute_result"
    }
   ],
   "execution_count": 17
  },
  {
   "metadata": {},
   "cell_type": "code",
   "outputs": [],
   "execution_count": null,
   "source": "",
   "id": "1dfe35b759eb8bf5"
  }
 ],
 "metadata": {
  "kernelspec": {
   "display_name": "Python 3",
   "language": "python",
   "name": "python3"
  },
  "language_info": {
   "codemirror_mode": {
    "name": "ipython",
    "version": 2
   },
   "file_extension": ".py",
   "mimetype": "text/x-python",
   "name": "python",
   "nbconvert_exporter": "python",
   "pygments_lexer": "ipython2",
   "version": "2.7.6"
  }
 },
 "nbformat": 4,
 "nbformat_minor": 5
}
