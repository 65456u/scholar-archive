{
 "cells": [
  {
   "metadata": {
    "ExecuteTime": {
     "end_time": "2024-05-30T00:40:57.342476Z",
     "start_time": "2024-05-30T00:40:56.855667Z"
    }
   },
   "cell_type": "code",
   "source": "import pandas as pd",
   "id": "fcad905861f45803",
   "outputs": [],
   "execution_count": 1
  },
  {
   "metadata": {
    "ExecuteTime": {
     "end_time": "2024-05-30T00:40:57.982297Z",
     "start_time": "2024-05-30T00:40:57.943820Z"
    }
   },
   "cell_type": "code",
   "source": "df = pd.read_pickle('all_content.pkl')",
   "id": "8f504c6233503f01",
   "outputs": [],
   "execution_count": 2
  },
  {
   "metadata": {
    "ExecuteTime": {
     "end_time": "2024-05-30T00:41:32.158901Z",
     "start_time": "2024-05-30T00:41:32.145070Z"
    }
   },
   "cell_type": "code",
   "source": "df.describe()",
   "id": "68ae9df1577eb0c8",
   "outputs": [
    {
     "data": {
      "text/plain": [
       "            title category                                             link  \\\n",
       "count         589      589                                              589   \n",
       "unique        589        4                                              589   \n",
       "top     牙缝里的数字化生意       产业  https://www.jiqizhixin.com/articles/2022-1-9-21   \n",
       "freq            1      445                                                1   \n",
       "\n",
       "       author                             author_id  \\\n",
       "count     589                                   589   \n",
       "unique      3                                     3   \n",
       "top      机器之心  294c393b-25f7-45b0-bec6-33e3bd344e61   \n",
       "freq      280                                   280   \n",
       "\n",
       "                                                  content  \n",
       "count                                                 589  \n",
       "unique                                                589  \n",
       "top     ![图片](https://mmbiz.qpic.cn/sz_mmbiz_png/DT8ud...  \n",
       "freq                                                    1  "
      ],
      "text/html": [
       "<div>\n",
       "<style scoped>\n",
       "    .dataframe tbody tr th:only-of-type {\n",
       "        vertical-align: middle;\n",
       "    }\n",
       "\n",
       "    .dataframe tbody tr th {\n",
       "        vertical-align: top;\n",
       "    }\n",
       "\n",
       "    .dataframe thead th {\n",
       "        text-align: right;\n",
       "    }\n",
       "</style>\n",
       "<table border=\"1\" class=\"dataframe\">\n",
       "  <thead>\n",
       "    <tr style=\"text-align: right;\">\n",
       "      <th></th>\n",
       "      <th>title</th>\n",
       "      <th>category</th>\n",
       "      <th>link</th>\n",
       "      <th>author</th>\n",
       "      <th>author_id</th>\n",
       "      <th>content</th>\n",
       "    </tr>\n",
       "  </thead>\n",
       "  <tbody>\n",
       "    <tr>\n",
       "      <th>count</th>\n",
       "      <td>589</td>\n",
       "      <td>589</td>\n",
       "      <td>589</td>\n",
       "      <td>589</td>\n",
       "      <td>589</td>\n",
       "      <td>589</td>\n",
       "    </tr>\n",
       "    <tr>\n",
       "      <th>unique</th>\n",
       "      <td>589</td>\n",
       "      <td>4</td>\n",
       "      <td>589</td>\n",
       "      <td>3</td>\n",
       "      <td>3</td>\n",
       "      <td>589</td>\n",
       "    </tr>\n",
       "    <tr>\n",
       "      <th>top</th>\n",
       "      <td>牙缝里的数字化生意</td>\n",
       "      <td>产业</td>\n",
       "      <td>https://www.jiqizhixin.com/articles/2022-1-9-21</td>\n",
       "      <td>机器之心</td>\n",
       "      <td>294c393b-25f7-45b0-bec6-33e3bd344e61</td>\n",
       "      <td>![图片](https://mmbiz.qpic.cn/sz_mmbiz_png/DT8ud...</td>\n",
       "    </tr>\n",
       "    <tr>\n",
       "      <th>freq</th>\n",
       "      <td>1</td>\n",
       "      <td>445</td>\n",
       "      <td>1</td>\n",
       "      <td>280</td>\n",
       "      <td>280</td>\n",
       "      <td>1</td>\n",
       "    </tr>\n",
       "  </tbody>\n",
       "</table>\n",
       "</div>"
      ]
     },
     "execution_count": 4,
     "metadata": {},
     "output_type": "execute_result"
    }
   ],
   "execution_count": 4
  },
  {
   "metadata": {},
   "cell_type": "code",
   "outputs": [],
   "execution_count": null,
   "source": "",
   "id": "42a70be1864f8e12"
  }
 ],
 "metadata": {
  "kernelspec": {
   "display_name": "Python 3",
   "language": "python",
   "name": "python3"
  },
  "language_info": {
   "codemirror_mode": {
    "name": "ipython",
    "version": 2
   },
   "file_extension": ".py",
   "mimetype": "text/x-python",
   "name": "python",
   "nbconvert_exporter": "python",
   "pygments_lexer": "ipython2",
   "version": "2.7.6"
  }
 },
 "nbformat": 4,
 "nbformat_minor": 5
}
