{
 "cells": [
  {
   "metadata": {
    "ExecuteTime": {
     "end_time": "2024-06-04T01:37:46.762281Z",
     "start_time": "2024-06-04T01:37:46.735076Z"
    }
   },
   "cell_type": "code",
   "source": [
    "# 以SpaCy为例\n",
    "import spacy\n",
    "\n",
    "# 加载预训练的模型\n",
    "nlp = spacy.load(\"en_core_web_sm\")  # 对于中文，可以使用 \"zh_core_web_sm\"\n",
    "\n",
    "# 输入文本\n",
    "text = \"Apple Inc. is looking at buying U.K. startup for $1 billion.\"\n",
    "\n",
    "# 处理文本\n",
    "doc = nlp(text)\n",
    "\n",
    "# 提取命名实体\n",
    "for ent in doc.ents:\n",
    "    print(ent.text, ent.label_)\n"
   ],
   "id": "afaefeeac0eac072",
   "outputs": [
    {
     "ename": "ModuleNotFoundError",
     "evalue": "No module named 'spacy'",
     "output_type": "error",
     "traceback": [
      "\u001B[0;31m---------------------------------------------------------------------------\u001B[0m",
      "\u001B[0;31mModuleNotFoundError\u001B[0m                       Traceback (most recent call last)",
      "Cell \u001B[0;32mIn[50], line 2\u001B[0m\n\u001B[1;32m      1\u001B[0m \u001B[38;5;66;03m# 以SpaCy为例\u001B[39;00m\n\u001B[0;32m----> 2\u001B[0m \u001B[38;5;28;01mimport\u001B[39;00m \u001B[38;5;21;01mspacy\u001B[39;00m\n\u001B[1;32m      4\u001B[0m \u001B[38;5;66;03m# 加载预训练的模型\u001B[39;00m\n\u001B[1;32m      5\u001B[0m nlp \u001B[38;5;241m=\u001B[39m spacy\u001B[38;5;241m.\u001B[39mload(\u001B[38;5;124m\"\u001B[39m\u001B[38;5;124men_core_web_sm\u001B[39m\u001B[38;5;124m\"\u001B[39m)  \u001B[38;5;66;03m# 对于中文，可以使用 \"zh_core_web_sm\"\u001B[39;00m\n",
      "\u001B[0;31mModuleNotFoundError\u001B[0m: No module named 'spacy'"
     ]
    }
   ],
   "execution_count": 50
  },
  {
   "metadata": {},
   "cell_type": "code",
   "outputs": [],
   "execution_count": null,
   "source": "",
   "id": "2a9584f2d871d985"
  }
 ],
 "metadata": {
  "kernelspec": {
   "display_name": "Python 3",
   "language": "python",
   "name": "python3"
  },
  "language_info": {
   "codemirror_mode": {
    "name": "ipython",
    "version": 2
   },
   "file_extension": ".py",
   "mimetype": "text/x-python",
   "name": "python",
   "nbconvert_exporter": "python",
   "pygments_lexer": "ipython2",
   "version": "2.7.6"
  }
 },
 "nbformat": 4,
 "nbformat_minor": 5
}
